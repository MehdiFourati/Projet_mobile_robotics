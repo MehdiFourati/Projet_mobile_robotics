{
 "cells": [
  {
   "cell_type": "code",
   "execution_count": 1,
   "metadata": {},
   "outputs": [],
   "source": [
    "import cv2 as cv\n",
    "import numpy as np\n",
    "import keyboard\n",
    "\n",
    "import vision"
   ]
  },
  {
   "cell_type": "code",
   "execution_count": 2,
   "metadata": {},
   "outputs": [
    {
     "name": "stdout",
     "output_type": "stream",
     "text": [
      "Angle:[2.65711472]\n"
     ]
    }
   ],
   "source": [
    "# Vision example on an image\n",
    "\n",
    "# load the image\n",
    "img = cv.imread(\"testing_vision.jpg\")\n",
    "img = cv.resize(img, (640,480), interpolation=cv.INTER_CUBIC) \n",
    "\n",
    "# do the actual vision\n",
    "original_coordinates, new_coordinates = vision.get_fop_coordinates(img)\n",
    "fop = vision.get_fop(img, original_coordinates, new_coordinates)\n",
    "start_x, start_y, alpha, width = vision.get_starting_position(fop)\n",
    "obstacles = vision.get_obstacles(fop,width)\n",
    "objective_x, objective_y = vision.get_objective(fop)\n",
    "\n",
    "# draws everything and displays it\n",
    "output = fop.copy()\n",
    "cv.circle(output, (objective_x, objective_y), radius=10, color=(255, 0, 0), thickness=-1)\n",
    "cv.circle(output, (start_x, start_y), radius=10, color=(0, 0, 255), thickness=-1)\n",
    "for obstacle in obstacles:\n",
    "    for vertice in obstacle:\n",
    "        cv.circle(output, (vertice[0],vertice[1]), radius=10, color=(0, 255, 0), thickness=-1)\n",
    "\n",
    "print(\"Angle:\" + str(alpha))\n",
    "\n",
    "cv.imshow(\"image\", output)\n",
    "\n",
    "# press any key to close all windows\n",
    "cv.waitKey(0) \n",
    "cv.destroyAllWindows()"
   ]
  },
  {
   "cell_type": "code",
   "execution_count": 3,
   "metadata": {},
   "outputs": [
    {
     "name": "stdout",
     "output_type": "stream",
     "text": [
      "Dimensions of the rectangular frame:\n",
      "580.0 369.0\n",
      "Starting coordinates and angle:\n",
      "(x ,y, alpha) = 533, 48, [2.65711472]\n",
      "Robot width:\n",
      "62\n",
      "Vertices of the obstacles:\n",
      "[[array([502, 134], dtype=int32), array([433, 312], dtype=int32), array([344, 269], dtype=int32), array([372, 140], dtype=int32)], [array([299, 138], dtype=int32), array([193, 281], dtype=int32), array([ 21, 141], dtype=int32), array([18, 92], dtype=int32)]]\n",
      "Goal coordinates:\n",
      "42 324\n"
     ]
    }
   ],
   "source": [
    "print(\"Dimensions of the rectangular frame:\")\n",
    "print(new_coordinates[3][0], new_coordinates[3][1])\n",
    "\n",
    "print(\"Starting coordinates and angle:\") # angle of the robot relative to the x axis, counterclockwise, expressed in radian in range (-pi, pi]\n",
    "print(\"(x ,y, alpha) = \" + str(start_x) + \", \"+ str(start_y) + \", \" + str(alpha))\n",
    "\n",
    "print(\"Robot width:\")\n",
    "print(width)\n",
    "\n",
    "print(\"Vertices of the obstacles:\")\n",
    "print(obstacles)\n",
    "\n",
    "print(\"Goal coordinates:\")\n",
    "print(objective_x, objective_y)\n"
   ]
  },
  {
   "cell_type": "code",
   "execution_count": 7,
   "metadata": {},
   "outputs": [],
   "source": [
    "# Global constants here\n",
    "\n",
    "# width of the video feed\n",
    "IMAGE_WIDTH = 640\n",
    "# height of the video feed\n",
    "IMAGE_HEIGHT = 480\n",
    "# fps of the video feed\n",
    "CAMERA_FPS = 30\n",
    "# keyboard input to start\n",
    "KEYBOARD_INPUT = \"enter\"\n",
    "# number of frame thrown away to allow the camera to focus in the meantime\n",
    "CAMERA_REFRESH_TIME = 30"
   ]
  },
  {
   "cell_type": "code",
   "execution_count": 8,
   "metadata": {},
   "outputs": [],
   "source": [
    "# 0 is laptop webcam, 1 is USB camera (!COMPUTER DEPENDENT!)\n",
    "cap = cv.VideoCapture(0)\n",
    "\n",
    "init = False # boolean set to True on keyboard input to start initialisation\n",
    "is_init = False # boolean set to True once initialisation has succeeded\n",
    "black_frame_remaining = 0 # numbers of frames to throw away\n",
    "\n",
    "# variable initialized at False irrelevant of wether it actually is\n",
    "camera_hidden = False\n",
    "\n",
    "# if unable to connect to the camera\n",
    "if not (cap.isOpened()):\n",
    "    print(\"Could not open video device\")\n",
    "else:\n",
    "    while(True):\n",
    "        # get the input frame by frame (shape (480,640,3))\n",
    "        ret, frame = cap.read() \n",
    "        cap.set(cv.CAP_PROP_FPS, CAMERA_FPS) \n",
    "        frame = cv.resize(frame, (IMAGE_WIDTH,IMAGE_HEIGHT), interpolation=cv.INTER_CUBIC) \n",
    "\n",
    "        # wait until keyboard input to initialize vision\n",
    "        if keyboard.is_pressed(KEYBOARD_INPUT):\n",
    "            init = True\n",
    "        \n",
    "        # initialize vision: start, obstacles and goal coordinates\n",
    "        if init == True:\n",
    "\n",
    "            try:\n",
    "                original_coordinates, new_coordinates = vision.get_fop_coordinates(frame)\n",
    "                fop = vision.get_fop(frame, original_coordinates, new_coordinates)\n",
    "                start_x, start_y, alpha, width = vision.get_starting_position(fop)\n",
    "                obstacles = vision.get_obstacles(fop, width)\n",
    "                objective_x, objective_y = vision.get_objective(fop)\n",
    "                is_init = True\n",
    "            except:\n",
    "                print(\"Initialisation failed\")\n",
    "\n",
    "            init = False\n",
    "            \n",
    "        if is_init:  \n",
    "        ################################## CALL FUNCTIONS HERE ################################## \n",
    "            \n",
    "            fop = vision.get_fop(frame, original_coordinates, new_coordinates)\n",
    "            center_x, center_y = vision.get_robot_center(fop)\n",
    "            \n",
    "            # camera was covered, now uncovered\n",
    "            if center_x != 0 and center_y != 0 and camera_hidden:\n",
    "                camera_hidden = False\n",
    "                black_frame_remaining = CAMERA_REFRESH_TIME # to give it time to gain focus\n",
    "\n",
    "            # camera was uncovered, now covered\n",
    "            elif center_x == 0 and center_y == 0:\n",
    "                camera_hidden = True\n",
    "\n",
    "            # camera uncovered and usable\n",
    "            elif black_frame_remaining <= 0:\n",
    "                fop = cv.circle(fop, (center_x,center_y), radius=10, color=(0, 255, 0), thickness=-1)\n",
    "                \n",
    "            else:\n",
    "                # set the first frames after uncovering to black to allow time to focus\n",
    "                fop = cv.cvtColor(fop, cv.COLOR_BGR2GRAY)\n",
    "                _, fop = cv.threshold(fop,255,255,cv.THRESH_BINARY)\n",
    "                black_frame_remaining -= 1\n",
    "\n",
    "        #########################################################################################\n",
    "        else:\n",
    "            # to output the raw feed\n",
    "            fop = frame\n",
    "\n",
    "        cv.imshow('preview',fop)\n",
    "        \n",
    "        # Close all windows and get out of the loop if ESC is pressed\n",
    "        if cv.waitKey(1) == 27:\n",
    "            cv.destroyAllWindows()\n",
    "            break"
   ]
  }
 ],
 "metadata": {
  "kernelspec": {
   "display_name": "MOBILEROBOTS",
   "language": "python",
   "name": "python3"
  },
  "language_info": {
   "codemirror_mode": {
    "name": "ipython",
    "version": 3
   },
   "file_extension": ".py",
   "mimetype": "text/x-python",
   "name": "python",
   "nbconvert_exporter": "python",
   "pygments_lexer": "ipython3",
   "version": "3.12.4"
  }
 },
 "nbformat": 4,
 "nbformat_minor": 2
}

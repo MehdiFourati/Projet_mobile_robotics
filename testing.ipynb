{
 "cells": [
  {
   "cell_type": "code",
   "execution_count": 2,
   "metadata": {},
   "outputs": [],
   "source": [
    "import cv2 as cv\n",
    "import numpy as np\n",
    "\n",
    "import vision"
   ]
  },
  {
   "cell_type": "code",
   "execution_count": 3,
   "metadata": {},
   "outputs": [
    {
     "name": "stdout",
     "output_type": "stream",
     "text": [
      "Angle:[2.65711472]\n"
     ]
    }
   ],
   "source": [
    "# Vision example on an image\n",
    "\n",
    "# load the image\n",
    "img = cv.imread(\"testing_vision.jpg\")\n",
    "img = cv.resize(img, (640,480), interpolation=cv.INTER_CUBIC) \n",
    "\n",
    "\n",
    "# do the actual vision\n",
    "original_coordinates, new_coordinates = vision.get_fop_coordinates(img)\n",
    "fop = vision.get_fop(img, original_coordinates, new_coordinates)\n",
    "obstacles = vision.get_obstacles(fop)\n",
    "start_x, start_y, alpha = vision.get_starting_position(fop)\n",
    "objective_x, objective_y = vision.get_objective(fop)\n",
    "\n",
    "# draws everything and displays it\n",
    "output = fop.copy()\n",
    "cv.circle(output, (objective_x, objective_y), radius=10, color=(255, 0, 0), thickness=-1)\n",
    "cv.circle(output, (start_x, start_y), radius=10, color=(0, 0, 255), thickness=-1)\n",
    "for obstacle in obstacles:\n",
    "    cv.drawContours(output, obstacle, -1, (0, 255, 0), 3)\n",
    "\n",
    "print(\"Angle:\" + str(alpha))\n",
    "\n",
    "cv.imshow(\"image\", output)\n",
    "\n",
    "# press any key to close all windows\n",
    "cv.waitKey(0) \n",
    "cv.destroyAllWindows()"
   ]
  },
  {
   "cell_type": "code",
   "execution_count": 4,
   "metadata": {},
   "outputs": [
    {
     "name": "stdout",
     "output_type": "stream",
     "text": [
      "Dimensions of the rectangular frame:\n",
      "580.0 369.0\n",
      "Starting coordinates and angle:\n",
      "(x ,y, alpha) = 533, 48, [2.65711472]\n",
      "Vertices of the obstacles:\n",
      "[[array([[[393, 166]],\n",
      "\n",
      "       [[485, 163]],\n",
      "\n",
      "       [[562, 312]],\n",
      "\n",
      "       [[468, 352]],\n",
      "\n",
      "       [[461, 293]],\n",
      "\n",
      "       [[374, 254]]], dtype=int32)], [array([[[122,  26]],\n",
      "\n",
      "       [[266, 142]],\n",
      "\n",
      "       [[189, 248]],\n",
      "\n",
      "       [[ 51, 126]],\n",
      "\n",
      "       [[ 49, 104]]], dtype=int32)]]\n",
      "Goal coordinates:\n",
      "42 324\n"
     ]
    }
   ],
   "source": [
    "print(\"Dimensions of the rectangular frame:\")\n",
    "print(new_coordinates[3][0], new_coordinates[3][1])\n",
    "\n",
    "print(\"Starting coordinates and angle:\") # angle of the robot relative to the x axis, counterclockwise, expressed in radian in range (-pi, pi]\n",
    "print(\"(x ,y, alpha) = \" + str(start_x) + \", \"+ str(start_y) + \", \" + str(alpha))\n",
    "\n",
    "print(\"Vertices of the obstacles:\")\n",
    "print(obstacles)\n",
    "\n",
    "print(\"Goal coordinates:\")\n",
    "print(objective_x, objective_y)\n"
   ]
  },
  {
   "cell_type": "code",
   "execution_count": 17,
   "metadata": {},
   "outputs": [],
   "source": [
    "# 0 is laptop webcam, 1 is USB camera (!COMPUTER DEPENDENT!)\n",
    "cap = cv.VideoCapture(0)\n",
    "\n",
    "i = 0\n",
    "\n",
    "# if unable to connect to the camera\n",
    "if not (cap.isOpened()):\n",
    "    print(\"Could not open video device\")\n",
    "else:\n",
    "    while(True):\n",
    "        # Get the input frame by frame (shape (480,640,3))\n",
    "        ret, frame = cap.read() \n",
    "\n",
    "        # throws away the first 2 seconds of footage to let the camera warm up and focus\n",
    "        i += 1\n",
    "        if i < 60:\n",
    "            continue\n",
    "        \n",
    "        # initialize vision: starting, obstacles and goal coordinates\n",
    "        if i == 60:\n",
    "            original_coordinates, new_coordinates = vision.get_fop_coordinates(frame)\n",
    "            fop = vision.get_fop(frame, original_coordinates, new_coordinates)\n",
    "\n",
    "            output = fop.copy()\n",
    "\n",
    "            obstacles = vision.get_obstacles(fop)\n",
    "\n",
    "            start_x, start_y, alpha = vision.get_starting_position(fop)\n",
    "\n",
    "            objective_x, objective_y = vision.get_objective(fop)\n",
    "            \n",
    "\n",
    "        ################################## CALL FUNCTIONS HERE ################################## \n",
    "        \n",
    "        fop = vision.get_fop(frame, original_coordinates, new_coordinates)\n",
    "        center_x, center_y = vision.get_robot_center(fop)\n",
    "        fop = cv.circle(fop, (center_x,center_y), radius=10, color=(0, 255, 0), thickness=-1)\n",
    "\n",
    "        #########################################################################################\n",
    "        \n",
    "        cv.imshow('preview',fop)\n",
    "        \n",
    "        # Close all windows and get out of the loop if ESC is pressed\n",
    "        if cv.waitKey(1) == 27:\n",
    "            cv.destroyAllWindows()\n",
    "            break"
   ]
  }
 ],
 "metadata": {
  "kernelspec": {
   "display_name": "MOBILEROBOTS",
   "language": "python",
   "name": "python3"
  },
  "language_info": {
   "codemirror_mode": {
    "name": "ipython",
    "version": 3
   },
   "file_extension": ".py",
   "mimetype": "text/x-python",
   "name": "python",
   "nbconvert_exporter": "python",
   "pygments_lexer": "ipython3",
   "version": "3.12.4"
  }
 },
 "nbformat": 4,
 "nbformat_minor": 2
}
